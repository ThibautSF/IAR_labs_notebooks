{
 "cells": [
  {
   "cell_type": "markdown",
   "metadata": {},
   "source": [
    "# Understanding on-policy and off-policy properties \n",
    "\n",
    "In this part, we investigate the difference between the off-policy property of Q-learning and the on-policy property of SARSA. For doing so, we will feed the critic of these algorithms with off-policy data stored into a replay buffer.\n",
    "Using a replay buffer is not mandatory when using random uniform samples, but using this approach makes the architecture more flexible for later experiments."
   ]
  },
  {
   "cell_type": "markdown",
   "metadata": {},
   "source": [
    "### Create a class Sample\n",
    "\n",
    "A sample contains the following information : the current state, the current action, the resulting reward, and the resulting next state.\n",
    "\n",
    "In the cell below, create a class to store a sample"
   ]
  },
  {
   "cell_type": "code",
   "execution_count": 1,
   "metadata": {},
   "outputs": [],
   "source": [
    "\"define your Sample class here\"\n",
    "class Sample:\n",
    "    \n",
    "    def __init__(self, x, u, r, y, done):\n",
    "        self.x = x\n",
    "        self.u = u\n",
    "        self.r = r\n",
    "        self.y = y\n",
    "        self.done = done\n",
    "    \n",
    "    def unwrap(self):\n",
    "        return self.x, self.u, self.r, self.y\n",
    "    \n",
    "    def __str__(self):\n",
    "        return \"{} {} {} {} {}\".format(self.x, self.u, self.r, self.y, self.done)\n",
    "    \n",
    "    def __repr__(self):\n",
    "        return \"{} {} {} {} {}\".format(self.x, self.u, self.r, self.y, self.done)"
   ]
  },
  {
   "cell_type": "markdown",
   "metadata": {},
   "source": [
    "### Create a class ReplayBuffer\n",
    "\n",
    "A replay buffer is a FIFO list of samples with a limited size (often set to 10^6). \n",
    "\n",
    "In the cell below, create a class ReplayBuffer. Give it a method __add(sample)__ to add a sample, a method __draw()__ to draw a sample randomly"
   ]
  },
  {
   "cell_type": "code",
   "execution_count": 2,
   "metadata": {},
   "outputs": [],
   "source": [
    "\"define your ReplayBuffer class here\"\n",
    "import collections\n",
    "\n",
    "class ReplayBuffer:\n",
    "    \n",
    "    def __init__(self, buffer_size=10e6):\n",
    "        self.buffer_size = buffer_size\n",
    "        self.buffer = collections.deque(maxlen=self.buffer_size)\n",
    "        \n",
    "    def push(self, sample, overwrite=True):\n",
    "\n",
    "        \"\"\" If maximum buffer size reached , remove old experience \"\"\"\n",
    "        if len(self.buffer) == self.buffer_size:\n",
    "            self.buffer.popleft()\n",
    "\n",
    "        \"\"\" Add new experience \"\"\"\n",
    "        self.buffer.append(sample)\n",
    "        \n",
    "    def draw(self):\n",
    "        indices = np.random.randint(0, len(self.buffer))\n",
    "        return self.buffer[indices]\n",
    "    \n",
    "    def __len__(self):\n",
    "        return len(self.buffer)"
   ]
  },
  {
   "cell_type": "markdown",
   "metadata": {},
   "source": [
    "In your mdp class, add a method __uniformSampling()__ which returns a randomly generated sample: it draws a state and an action at random, provides the corresponding reward and next state, stores these into a sample and returns that sample."
   ]
  },
  {
   "cell_type": "markdown",
   "metadata": {},
   "source": [
    "In the box below, get your Q-learning code from [reinforcement_learning.ipynb](reinforcement_learning.ipynb), and copy-paste it."
   ]
  },
  {
   "cell_type": "code",
   "execution_count": 22,
   "metadata": {},
   "outputs": [],
   "source": [
    "\"copy-paste your Q-learning code here\"\n",
    "import numpy as np\n",
    "from ipynb.fs.defs.toolbox import softmax\n",
    "\n",
    "########################### Q-Learning ###########################\n",
    "    \n",
    "# Given a temperature \"tau\", the QLearning function computes the state action-value function \n",
    "# based on a softmax policy \n",
    "def QLearning(mdp, tau, rb, nEpisodes=5000,  nTimesteps=500, alpha=0.01, render=True):\n",
    "    # Initialize the state-action value function\n",
    "    # alpha is the learning rate\n",
    "    Q = np.zeros((mdp.observation_space.size,mdp.action_space.size))\n",
    "    \n",
    "    Q_list = []\n",
    "    policy_list = []\n",
    "    \n",
    "    if render:\n",
    "        mdp.new_render()\n",
    "        \n",
    "    for i in range(nEpisodes) :\n",
    "        \n",
    "        timesteps = 0\n",
    "        \n",
    "        done = False\n",
    "        \n",
    "        while not done:\n",
    "            \n",
    "            if render :\n",
    "                # Show the agent in the maze\n",
    "                mdp.render(Q, Q.argmax(axis=1))\n",
    "        \n",
    "            sample = rb.draw()\n",
    "        \n",
    "            x = sample.x\n",
    "            u = sample.u\n",
    "            r = sample.r\n",
    "            y = sample.y\n",
    "            \n",
    "            done = sample.done\n",
    "            \n",
    "            # Update the state-action value function with Q-Learning\n",
    "            if x in mdp.terminal_states:\n",
    "                Q[x,u] = r\n",
    "                \n",
    "            else:\n",
    "                delta = r + mdp.gamma * Q[y, np.argmax(Q[y])] - Q[x, u]\n",
    "                Q[x,u] = Q[x,u] + alpha * delta\n",
    "            \n",
    "            timesteps = timesteps + 1\n",
    "            \n",
    "            if done is False:\n",
    "                done = timesteps > nTimesteps\n",
    "                \n",
    "        # Save state-action value after each episode\n",
    "        Q_list.append(Q.copy())\n",
    "        policy_list.append(Q.argmax(axis=1))\n",
    "\n",
    "    if render :\n",
    "        # Show the agent in the maze\n",
    "        mdp.render(Q, Q.argmax(axis=1))\n",
    "        \n",
    "    return [Q_list, policy_list]"
   ]
  },
  {
   "cell_type": "markdown",
   "metadata": {},
   "source": [
    "Modify the above code so that, instead of being fed by the samples of an agent running its current policy, the Q-table is fed by samples drawn randomly from the replay buffer.\n"
   ]
  },
  {
   "cell_type": "markdown",
   "metadata": {},
   "source": [
    "### Writing the main code\n",
    " \n",
    " Below, write a code that:\n",
    " * creates a replay buffer containing 10.000 samples drawn uniformly from the mdp,\n",
    " * makes Q-learning learn from samples drawn uniformly from the replay buffer for a fixed number of episodes,\n",
    " * visualizes the results.\n"
   ]
  },
  {
   "cell_type": "code",
   "execution_count": 23,
   "metadata": {},
   "outputs": [],
   "source": [
    "\"run modified Qlearning\"\n",
    "\n",
    "import ipynb.fs.defs.my_mdp as my_mdp\n",
    "from ipynb.fs.defs.maze_plotter import maze_plotter # used for visualization of the state value and policy evolution\n",
    "\n",
    "walls = [6, 13, 14, 15]\n",
    "height = 4\n",
    "width = 5\n",
    "terminal_states=[width*height-1]\n",
    "m = my_mdp.maze_mdp(width, height, walls=walls, terminal_states=terminal_states)\n",
    "\n",
    "tau = 0.01\n",
    "\n",
    "rb = ReplayBuffer(buffer_size=10000)\n",
    "\n",
    "for i in range(10000):\n",
    "    sample = m.uniformSampling()\n",
    "    rb.push(sample)\n",
    "\n",
    "Q_list, policy_list = QLearning(m, tau, rb, render=False)"
   ]
  },
  {
   "cell_type": "code",
   "execution_count": 24,
   "metadata": {},
   "outputs": [
    {
     "data": {
      "image/png": "[encoded data removed]",
      "text/plain": [
       "<Figure size 360x288 with 1 Axes>"
      ]
     },
     "metadata": {},
     "output_type": "display_data"
    }
   ],
   "source": [
    "\"visualize your results here, it is better to do it in a different cell than the one that runs your algorithm so\"\n",
    "\"you can customize your rendering to your heart's content !\"\n",
    "\n",
    "from IPython.display import HTML  # used to display the video on the notebook\n",
    "\n",
    "m.new_render()\n",
    "m.render(Q_list[-1], policy_list[-1])  # QPI_list is the list of the Q values processed at each episode, "
   ]
  },
  {
   "cell_type": "markdown",
   "metadata": {},
   "source": [
    "What do you observe? Is this algorithm converging to an optimal Q-table?\n",
    "\n",
    "Yes it does. Since the only different thing is how the samples are drawn but they are coming from the same MDP"
   ]
  },
  {
   "cell_type": "markdown",
   "metadata": {
    "collapsed": true
   },
   "source": [
    "Now, do the same with SARSA: import it below, and modify it as you did for Q-learning (or just change your modified Q-learning into a modified SARSA below, this is easier).\n"
   ]
  },
  {
   "cell_type": "code",
   "execution_count": 9,
   "metadata": {},
   "outputs": [],
   "source": [
    "\"write your SARSA code here\"\n",
    "\"write SARSA here\"\n",
    "\n",
    "\"copy-paste and replace here\"\n",
    "import numpy as np\n",
    "from ipynb.fs.defs.toolbox import softmax\n",
    "from ipynb.fs.defs.toolbox import discreteProb\n",
    "\n",
    "########################### Q-Learning ###########################\n",
    "    \n",
    "# Given a temperature \"tau\", the QLearning function computes the state action-value function \n",
    "# based on a softmax policy \n",
    "def Sarsa(mdp, tau, rb, nEpisodes=10000,nTimesteps=50,alpha=0.01,render=True):\n",
    "    # Initialize the state-action value function\n",
    "    # alpha is the learning rate\n",
    "    Q = np.zeros((mdp.observation_space.size,mdp.action_space.size))\n",
    "    \n",
    "    Q_list = []\n",
    "    policy_list = []\n",
    "    \n",
    "    if render:\n",
    "        mdp.new_render()\n",
    "        \n",
    "    for i in range(nEpisodes) :\n",
    "         \n",
    "        timesteps = 0\n",
    "        done = False\n",
    "        \n",
    "        while not done:\n",
    "            \n",
    "            sample = rb.draw()\n",
    "        \n",
    "            x = sample.x\n",
    "            u = sample.u\n",
    "            r = sample.r\n",
    "            y = sample.y\n",
    "            \n",
    "            done = sample.done\n",
    "            \n",
    "            if render :\n",
    "                # Show the agent in the maze\n",
    "                mdp.render(Q, Q.argmax(axis=1))\n",
    "            \n",
    "            # Draw an action (t + 1) using an epsilon greedy policy\n",
    "            if np.random.rand(1) < 0.1:\n",
    "                ut = mdp.action_space.sample()  \n",
    "            else:\n",
    "                if y == 20:\n",
    "                    ut = 0\n",
    "                else:\n",
    "                    ut = np.argmax(Q[y])\n",
    "\n",
    "            # Update the state-action value function with Q-Learning\n",
    "            if x in mdp.terminal_states:\n",
    "                Q[x,u] = r\n",
    "            else:\n",
    "                Q[x, u] = Q[x, u] + alpha * (r + mdp.gamma * Q[y, ut] - Q[x, u])\n",
    "            \n",
    "            if done is False:\n",
    "                done = timesteps > nTimesteps\n",
    "            \n",
    "        # Save state-action value after each episode\n",
    "        Q_list.append(Q.copy())\n",
    "        policy_list.append(Q.argmax(axis=1))\n",
    "\n",
    "    if render :\n",
    "        # Show the agent in the maze\n",
    "        mdp.render(Q, Q.argmax(axis=1))\n",
    "        \n",
    "    return [Q_list, policy_list]"
   ]
  },
  {
   "cell_type": "code",
   "execution_count": 10,
   "metadata": {},
   "outputs": [],
   "source": [
    "\"run your modified SARSA code here\"\n",
    "\"run modified Qlearning\"\n",
    "\n",
    "import import_ipynb\n",
    "import my_mdp\n",
    "from ipynb.fs.defs.maze_plotter import maze_plotter # used for visualization of the state value and policy evolution\n",
    "\n",
    "walls = [6, 13, 14, 15]\n",
    "height = 4\n",
    "width = 5\n",
    "terminal_states=[width*height-1]\n",
    "m = my_mdp.maze_mdp(width, height, walls=walls, terminal_states=terminal_states)\n",
    "\n",
    "tau = 0.01\n",
    "\n",
    "rb = ReplayBuffer(buffer_size=10000)\n",
    "\n",
    "for i in range(10000):\n",
    "    sample = m.uniformSampling()\n",
    "    rb.push(sample)\n",
    "\n",
    "Q_list, policy_list = Sarsa(m, tau, rb, render=False)"
   ]
  },
  {
   "cell_type": "code",
   "execution_count": 11,
   "metadata": {},
   "outputs": [
    {
     "data": {
      "image/png": "[encoded data removed]",
      "text/plain": [
       "<Figure size 360x288 with 1 Axes>"
      ]
     },
     "metadata": {},
     "output_type": "display_data"
    }
   ],
   "source": [
    "\"visualize your results here\"\n",
    "\"visualize your results here, it is better to do it in a different cell than the one that runs your algorithm so\"\n",
    "\"you can customize your rendering to your heart's content !\"\n",
    "\n",
    "from IPython.display import HTML  # used to display the video on the notebook\n",
    "\n",
    "m.new_render()\n",
    "m.render(Q_list[-1], policy_list[-1])  # QPI_list is the list of the Q values processed at each episode, "
   ]
  },
  {
   "cell_type": "markdown",
   "metadata": {
    "collapsed": true
   },
   "source": [
    "Again, what do you observe? Is this algorithm converging to an optimal Q-table?\n",
    "Discuss the difference.\n",
    "To go further and better understand the convergence properties of SARSA, read [the paper where its convergence was proven](https://link.springer.com/content/pdf/10.1023/A:1007678930559.pdf)\n",
    "\n",
    "While slightly different on the ties, the Q-table is optimal and therefore the resulting policy is also optimal"
   ]
  },
  {
   "cell_type": "code",
   "execution_count": null,
   "metadata": {},
   "outputs": [],
   "source": []
  }
 ],
 "metadata": {
  "kernelspec": {
   "display_name": "Python 3",
   "language": "python",
   "name": "python3"
  },
  "language_info": {
   "codemirror_mode": {
    "name": "ipython",
    "version": 3
   },
   "file_extension": ".py",
   "mimetype": "text/x-python",
   "name": "python",
   "nbconvert_exporter": "python",
   "pygments_lexer": "ipython3",
   "version": "3.7.3"
  }
 },
 "nbformat": 4,
 "nbformat_minor": 2
}
